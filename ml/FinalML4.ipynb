{
 "cells": [
  {
   "cell_type": "markdown",
   "id": "ba937997-995c-416d-b534-87e6572af096",
   "metadata": {},
   "source": [
    "#### Problem Statement :-\n",
    "    Implement Gradient Descent Algorithm to find the local minima of a function.For example, find the local minima of the function y=(x+3)² starting from the point x=2."
   ]
  },
  {
   "cell_type": "code",
   "execution_count": 1,
   "id": "88fb28ea-6766-4a0d-811f-1737025d699f",
   "metadata": {},
   "outputs": [],
   "source": [
    "import numpy as np\n",
    "import matplotlib.pyplot as plt\n",
    "\n",
    "%matplotlib inline"
   ]
  },
  {
   "cell_type": "code",
   "execution_count": 2,
   "id": "20d2fa53-e0cd-481d-82c0-42a246757ee7",
   "metadata": {},
   "outputs": [],
   "source": [
    "def gradient_desc(x,y):\n",
    "    m_curr = b_curr = 0\n",
    "    iterations = 100000\n",
    "    n = len(x)\n",
    "    \n",
    "    \n",
    "    learning_rate  = 0.008\n",
    "    cost_prev = np.inf\n",
    "    for i in range(iterations):\n",
    "        y_pred = m_curr*x + b_curr\n",
    "        cost = (1/n) * sum([val**2 for val in (y - y_pred)])\n",
    "        dm = -(2/n) * sum(x*(y - y_pred))\n",
    "        db = -(2/n) * sum(y - y_pred)\n",
    "        \n",
    "        m_curr = m_curr - learning_rate*dm\n",
    "        b_curr = b_curr - learning_rate*db\n",
    "        \n",
    "        # print(\"m = {}  b={}  iteration = {}  cost={} \".format(m_curr,b_curr,i,cost))\n",
    "        if(cost > cost_prev) :\n",
    "            print(\"m = {}  b={}  iteration = {}  cost={} \".format(m_curr,b_curr,i,cost))\n",
    "            break\n",
    "        \n",
    "        cost_prev= cost \n",
    "        \n",
    "    print(\"m = {}  b={}  iteration = {}  cost={} \".format(m_curr,b_curr,i,cost))"
   ]
  },
  {
   "cell_type": "code",
   "execution_count": 3,
   "id": "ccdfbea8-0c25-4aff-9bff-2f649afd481d",
   "metadata": {},
   "outputs": [
    {
     "name": "stdout",
     "output_type": "stream",
     "text": [
      "m = 2.0000000000001092  b=2.999999999999604  iteration = 10850  cost=2.881551114591312e-26 \n",
      "m = 2.0000000000001092  b=2.999999999999604  iteration = 10850  cost=2.881551114591312e-26 \n"
     ]
    }
   ],
   "source": [
    "x = np.array([1,2,3,4,5])\n",
    "y = np.array([5,7,9,11,13])\n",
    "\n",
    "gradient_desc(x,y)"
   ]
  },
  {
   "cell_type": "code",
   "execution_count": null,
   "id": "a9bcdd4c-1c69-443a-af6f-975e7e0ab720",
   "metadata": {},
   "outputs": [],
   "source": []
  },
  {
   "cell_type": "code",
   "execution_count": null,
   "id": "98322eee-ed42-4af8-a1ef-7dc2aa679ed7",
   "metadata": {},
   "outputs": [],
   "source": []
  },
  {
   "cell_type": "code",
   "execution_count": 4,
   "id": "64c3f2b6-0568-4c24-bbb7-4debb703ad8e",
   "metadata": {},
   "outputs": [],
   "source": [
    "slope = lambda x : (x+3)*2"
   ]
  },
  {
   "cell_type": "code",
   "execution_count": 9,
   "id": "50ba6014-7616-4648-b24c-830421cc8280",
   "metadata": {},
   "outputs": [
    {
     "name": "stdout",
     "output_type": "stream",
     "text": [
      "x = -2.999951128099859  cost=2.3884626233941395e-09  iterations=570\n",
      "x = -2.999951128099859  cost=2.3884626233941395e-09  iterations=570\n"
     ]
    }
   ],
   "source": [
    "# y = (x+3)^2\n",
    "\n",
    "curr_x = 2\n",
    "learning_rate = 0.01\n",
    "iterations = 10000000\n",
    "precision = 0.000001\n",
    "cost = (curr_x + 3)**2\n",
    "cost_prev = cost\n",
    "\n",
    "for i in range(iterations):\n",
    "    prev_x = curr_x\n",
    "    df = slope(curr_x)\n",
    "    # New Value = Old Value - Step size \n",
    "    # where Step size = learning rate * Slope of function\n",
    "    curr_x = curr_x - learning_rate * (df)\n",
    "    cost = (curr_x + 3)**2\n",
    "    \n",
    "    if(cost > cost_prev or abs(prev_x - curr_x) < precision) :\n",
    "        print(\"x = {}  cost={}  iterations={}\".format(curr_x,cost,i))\n",
    "        break\n",
    "    #print(\"x = {}  cost={}  iterations={}\".format(curr_x,cost,i))\n",
    "    cost_prev = cost\n",
    "\n",
    "print(\"x = {}  cost={}  iterations={}\".format(curr_x,cost,i))\n"
   ]
  },
  {
   "cell_type": "code",
   "execution_count": null,
   "id": "5bc845a7-ed14-4e2f-b647-18a211b8d90e",
   "metadata": {},
   "outputs": [],
   "source": []
  },
  {
   "cell_type": "code",
   "execution_count": null,
   "id": "a367e7d8-d2b0-4f4a-80b9-b7e5975077eb",
   "metadata": {},
   "outputs": [],
   "source": []
  },
  {
   "cell_type": "code",
   "execution_count": null,
   "id": "650db30d-186a-4f6a-86ef-c2239af469bc",
   "metadata": {},
   "outputs": [],
   "source": []
  },
  {
   "cell_type": "code",
   "execution_count": 6,
   "id": "90435c61-72b2-437f-8576-6d1dbfbd5f4b",
   "metadata": {
    "scrolled": true
   },
   "outputs": [
    {
     "name": "stdout",
     "output_type": "stream",
     "text": [
      "\n",
      "Local minimum:  -2.999951128099859\n"
     ]
    }
   ],
   "source": [
    "print(\"\\nLocal minimum: \", curr_x)"
   ]
  },
  {
   "cell_type": "markdown",
   "id": "7a191c7e-f500-49b6-b47b-23cf0315a943",
   "metadata": {},
   "source": [
    "Plot the graph"
   ]
  },
  {
   "cell_type": "code",
   "execution_count": 7,
   "id": "418d6d3b-9939-400c-8540-d2483abef128",
   "metadata": {},
   "outputs": [
    {
     "data": {
      "text/plain": [
       "[<matplotlib.lines.Line2D at 0x116dc7580>]"
      ]
     },
     "execution_count": 7,
     "metadata": {},
     "output_type": "execute_result"
    },
    {
     "data": {
      "image/png": "[encoded data removed]",
      "text/plain": [
       "<Figure size 432x288 with 1 Axes>"
      ]
     },
     "metadata": {
      "needs_background": "light"
     },
     "output_type": "display_data"
    }
   ],
   "source": [
    "x_g = np.linspace(-5, -1) # Return evenly spaced numbers\n",
    "y_g = []\n",
    "\n",
    "for i in x_g:\n",
    "  y_g.append((i+3)**2)\n",
    "\n",
    "plt.plot(x_g,y_g)"
   ]
  },
  {
   "cell_type": "code",
   "execution_count": null,
   "id": "1c28b9b8-d001-415f-bf04-acb9d780bc0c",
   "metadata": {},
   "outputs": [],
   "source": []
  }
 ],
 "metadata": {
  "kernelspec": {
   "display_name": "Python 3 (ipykernel)",
   "language": "python",
   "name": "python3"
  },
  "language_info": {
   "codemirror_mode": {
    "name": "ipython",
    "version": 3
   },
   "file_extension": ".py",
   "mimetype": "text/x-python",
   "name": "python",
   "nbconvert_exporter": "python",
   "pygments_lexer": "ipython3",
   "version": "3.9.7"
  }
 },
 "nbformat": 4,
 "nbformat_minor": 5
}
